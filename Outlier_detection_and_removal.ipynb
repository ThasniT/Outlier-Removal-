{
  "metadata": {
    "kernelspec": {
      "display_name": "Python 3",
      "language": "python",
      "name": "python3"
    },
    "language_info": {
      "codemirror_mode": {
        "name": "ipython",
        "version": 3
      },
      "file_extension": ".py",
      "mimetype": "text/x-python",
      "name": "python",
      "nbconvert_exporter": "python",
      "pygments_lexer": "ipython3",
      "version": "3.7.4"
    },
    "colab": {
      "provenance": []
    }
  },
  "nbformat_minor": 0,
  "nbformat": 4,
  "cells": [
    {
      "cell_type": "markdown",
      "source": [
        "##OUTLIER DETECTION AND REMOVAL"
      ],
      "metadata": {
        "id": "vuVoarEeVxJI"
      }
    },
    {
      "cell_type": "markdown",
      "source": [
        "In statistics, an outlier is a data point that differs significantly from other observations.\n",
        "\n",
        "An outlier may be due to a variability in the measurement, an indication of novel data, or it may be the result of experimental error; the latter are sometimes excluded from the data set.\n",
        "\n",
        "An outlier can be an indication of exciting possibility, but can also cause serious problems in statistical analyses."
      ],
      "metadata": {
        "id": "ME6LkNtqVe3H"
      }
    },
    {
      "cell_type": "code",
      "source": [
        "import numpy as np\n",
        "import pandas as pd\n",
        "import matplotlib.pyplot as plt\n",
        "import seaborn as sns\n",
        "pd.set_option(\"display.max_columns\",None)\n",
        "pd.set_option(\"display.max_rows\",None)\n",
        "\n",
        "import warnings\n",
        "warnings.filterwarnings(\"ignore\")\n",
        "\n",
        "from IPython.display import Image\n",
        "from sklearn.preprocessing import StandardScaler\n",
        "from sklearn.cluster import DBSCAN\n",
        "from sklearn.neighbors import LocalOutlierFactor\n",
        "sns.set(style=\"darkgrid\", palette=\"pastel\", color_codes=True)\n",
        "sns.set_context('talk')\n",
        "\n"
      ],
      "metadata": {
        "trusted": true,
        "id": "M4rbZIbyVA9f"
      },
      "execution_count": null,
      "outputs": []
    },
    {
      "cell_type": "markdown",
      "source": [
        "# What are outliers?"
      ],
      "metadata": {
        "id": "JJylhrmXVA9h"
      }
    },
    {
      "cell_type": "markdown",
      "source": [
        "\n",
        "### An outlier is an observation that is unlike the other observations. It is rare, or distinct, or does not fit in some way. It is also called anomalies."
      ],
      "metadata": {
        "id": "viqkGAdgVA9h"
      }
    },
    {
      "cell_type": "markdown",
      "source": [
        "#### Outliers can have many causes, such as:\n",
        "\n",
        "#### - Measurement or input error.\n",
        "#### - Data corruption.\n",
        "#### - True outlier observation.\n",
        "\n",
        "#### There is no precise way to define and identify outliers in general because of the specifics of each dataset. Instead, you, or a domain expert, must interpret the raw observations and decide whether a value is an outlier or not.\n",
        "\n",
        "#### Nevertheless, we can use statistical methods to identify observations that appear to be rare or unlikely given the available data. This does not mean that the values identified are outliers and should be removed. A good tip is to consider plotting the identified outlier values, perhaps in the context of non-outlier values to see if there are any systematic relationships or patterns to the outliers. If there is, perhaps they are not outliers and can be explained, or perhaps the outliers themselves can be identified more systematically."
      ],
      "metadata": {
        "id": "9CAv_zXyVA9h"
      }
    },
    {
      "cell_type": "markdown",
      "source": [
        "# Types of outliers:"
      ],
      "metadata": {
        "id": "doAyIgTFVA9h"
      }
    },
    {
      "cell_type": "markdown",
      "source": [
        "### Outlier can be of two types:\n",
        "### 1) Univariate\n",
        "### 2) Multivariate.\n",
        "\n",
        "#### Univariate outliers can be found when we look at distribution of a single variable. Multi-variate outliers are outliers in an n-dimensional space. In order to find them, you have to look at distributions in multi-dimensions.\n",
        "\n",
        "#### Let us understand this with an example. Let us say we are understanding the relationship between height and weight. Below, we have univariate and bivariate distribution for Height, Weight. Take a look at the box plot. We do not have any outlier (above and below 1.5*IQR, most common method). Now look at the scatter plot. Here, we have two values below and one above the average in a specific segment of weight and height."
      ],
      "metadata": {
        "id": "Cl2k2THbVA9i"
      }
    },
    {
      "cell_type": "markdown",
      "source": [
        "## What is the impact of Outliers on a dataset?"
      ],
      "metadata": {
        "id": "fsp24l2UVA9i"
      }
    },
    {
      "cell_type": "markdown",
      "source": [
        "#### Outliers can drastically change the results of the data analysis and statistical modeling. There are numerous unfavourable impacts of outliers in the data set:\n",
        "\n",
        "#### - It increases the error variance and reduces the power of statistical tests\n",
        "#### - If the outliers are non-randomly distributed, they can decrease normality\n",
        "#### - They can bias or influence estimates that may be of substantive interest\n",
        "#### - They can also impact the basic assumption of Regression, ANOVA and other statistical model assumptions.\n",
        "\n",
        "#### To understand the impact deeply, let’s take an example to check what happens to a data set with and without outliers in the data set."
      ],
      "metadata": {
        "id": "gFE18B7uVA9i"
      }
    },
    {
      "cell_type": "markdown",
      "source": [
        "# Outlier Detection Techniques:"
      ],
      "metadata": {
        "id": "mpoXiE10VA9j"
      }
    },
    {
      "cell_type": "markdown",
      "source": [
        "## A) Univariate Outliers:"
      ],
      "metadata": {
        "id": "S95wQG5UVA9j"
      }
    },
    {
      "cell_type": "code",
      "source": [
        "df_1 = pd.read_csv(\"../input/heart-disease-uci/heart.csv\")\n",
        "df_1.head()"
      ],
      "metadata": {
        "trusted": true,
        "id": "cvxLK6fNVA9j"
      },
      "execution_count": null,
      "outputs": []
    },
    {
      "cell_type": "markdown",
      "source": [
        "#### I will perform basic EDA to analyse the Data Frame"
      ],
      "metadata": {
        "id": "KrWNRP0GVA9k"
      }
    },
    {
      "cell_type": "code",
      "source": [
        "df_1.isnull().sum()"
      ],
      "metadata": {
        "trusted": true,
        "id": "ToWJUDSqVA9k"
      },
      "execution_count": null,
      "outputs": []
    },
    {
      "cell_type": "markdown",
      "source": [
        "#### There are no null values in the data frame"
      ],
      "metadata": {
        "id": "x4_OBpZ1VA9k"
      }
    },
    {
      "cell_type": "code",
      "source": [
        "df_1.describe()"
      ],
      "metadata": {
        "scrolled": true,
        "trusted": true,
        "id": "QQeFo1XlVA9k"
      },
      "execution_count": null,
      "outputs": []
    },
    {
      "cell_type": "markdown",
      "source": [
        "#### Let's consider serum cholestoral in mg/dl column i.e. \"chol\" for our analysis. I'll plot a simple box plot which is the best visualization for detecting outliers"
      ],
      "metadata": {
        "id": "MsZkNDxnVA9k"
      }
    },
    {
      "cell_type": "code",
      "source": [
        "plt.figure(figsize = (4,8))\n",
        "sns.boxplot(y = df_1.chol)"
      ],
      "metadata": {
        "trusted": true,
        "id": "Fip0f95hVA9k"
      },
      "execution_count": null,
      "outputs": []
    },
    {
      "cell_type": "markdown",
      "source": [
        "#### From the above box plot, we can surely observe that there are outliers in it!"
      ],
      "metadata": {
        "id": "Q3xdNtyoVA9k"
      }
    },
    {
      "cell_type": "markdown",
      "source": [
        "# 1) Interquartile Range Method"
      ],
      "metadata": {
        "id": "-iArgsHZVA9k"
      }
    },
    {
      "cell_type": "markdown",
      "source": [
        "#### The concept of the Interquartile Range (IQR) is used to build the boxplot graphs. IQR is a concept in statistics that is used to measure the statistical dispersion and data variability by dividing the dataset into quartiles.\n",
        "\n",
        "#### In simple words, any dataset or any set of observations is divided into four defined intervals based upon the values of the data and how they compare to the entire dataset. A quartile is what divides the data into three points and four intervals.\n",
        "\n",
        "####  It is the difference between the third quartile and the first quartile (IQR = Q3 -Q1). Outliers in this case are defined as the observations that are below (Q1 − 1.5x IQR) or boxplot lower whisker or above (Q3 + 1.5x IQR) or boxplot upper whisker. It can be visually represented by the box plot."
      ],
      "metadata": {
        "id": "HmJCsGGoVA9k"
      }
    },
    {
      "cell_type": "markdown",
      "source": [
        "#### Let's define a function to find out the IQR, lower and the upper whisker."
      ],
      "metadata": {
        "id": "ezh-ldNjVA9l"
      }
    },
    {
      "cell_type": "code",
      "source": [
        "def out_iqr(df , column):\n",
        "    global lower,upper\n",
        "    q25, q75 = np.quantile(df[column], 0.25), np.quantile(df[column], 0.75)\n",
        "    # calculate the IQR\n",
        "    iqr = q75 - q25\n",
        "    # calculate the outlier cutoff\n",
        "    cut_off = iqr * 1.5\n",
        "    # calculate the lower and upper bound value\n",
        "    lower, upper = q25 - cut_off, q75 + cut_off\n",
        "    print('The IQR is',iqr)\n",
        "    print('The lower bound value is', lower)\n",
        "    print('The upper bound value is', upper)\n",
        "    # Calculate the number of records below and above lower and above bound value respectively\n",
        "    df1 = df[df[column] > upper]\n",
        "    df2 = df[df[column] < lower]\n",
        "    return print('Total number of outliers are', df1.shape[0]+ df2.shape[0])"
      ],
      "metadata": {
        "trusted": true,
        "id": "veYHqU2UVA9l"
      },
      "execution_count": null,
      "outputs": []
    },
    {
      "cell_type": "markdown",
      "source": [
        "### For example, I'll take up the [Heart disease UCI DataSet](https://www.kaggle.com/ronitf/heart-disease-uci) for explaining IQR method."
      ],
      "metadata": {
        "id": "RUmPWBvSVA9l"
      }
    },
    {
      "cell_type": "code",
      "source": [
        "out_iqr(df_1,'chol')\n",
        "#Input the dataset and the required column"
      ],
      "metadata": {
        "scrolled": true,
        "trusted": true,
        "id": "R3-FsHGvVA9l"
      },
      "execution_count": null,
      "outputs": []
    },
    {
      "cell_type": "markdown",
      "source": [
        "### As per the IQR method, there are 5 outliers."
      ],
      "metadata": {
        "id": "zaiWjHn8VA9l"
      }
    },
    {
      "cell_type": "markdown",
      "source": [
        "### Visual representation:"
      ],
      "metadata": {
        "id": "ccq3tT87VA9l"
      }
    },
    {
      "cell_type": "code",
      "source": [
        "plt.figure(figsize = (10,6))\n",
        "sns.distplot(df_1.chol, kde=False)\n",
        "plt.axvspan(xmin = lower,xmax= df_1.chol.min(),alpha=0.2, color='red')\n",
        "plt.axvspan(xmin = upper,xmax= df_1.chol.max(),alpha=0.2, color='red')"
      ],
      "metadata": {
        "trusted": true,
        "id": "bKr7XPLEVA9m"
      },
      "execution_count": null,
      "outputs": []
    },
    {
      "cell_type": "markdown",
      "source": [
        "#### Here the red zone represents the outlier zone! The records present in that zone are considered as outliers"
      ],
      "metadata": {
        "id": "XB5rNKXlVA9m"
      }
    },
    {
      "cell_type": "markdown",
      "source": [
        "### Remedial Measure:\n",
        "#### Remove the records which are above the upper bound value and records below the lower bound value!"
      ],
      "metadata": {
        "id": "_IO0O33lVA9m"
      }
    },
    {
      "cell_type": "code",
      "source": [
        "#Data Frame without outliers\n",
        "df_new = df_1[(df_1['chol'] < upper) | (df_1['chol'] > lower)]"
      ],
      "metadata": {
        "trusted": true,
        "id": "dbDXnQMHVA9m"
      },
      "execution_count": null,
      "outputs": []
    },
    {
      "cell_type": "markdown",
      "source": [
        "# 2) Standard Deviation Method"
      ],
      "metadata": {
        "id": "NPJbQxbEVA9m"
      }
    },
    {
      "cell_type": "markdown",
      "source": [
        "#### Standard deviation is a metric of variance i.e. how much the individual data points are spread out from the mean. In statistics, If a data distribution is approximately normal then about 68% of the data values lie within one standard deviation of the mean and about 95% are within two standard deviations, and about 99.7% lie within three standard deviations"
      ],
      "metadata": {
        "id": "DW0Zgji_VA9u"
      }
    },
    {
      "cell_type": "markdown",
      "source": [
        "#### For example, I'll take up the [Student Performance in Exam DataSet](https://www.kaggle.com/spscientist/students-performance-in-exams) for explaining SDM."
      ],
      "metadata": {
        "id": "m76fJbipVA9u"
      }
    },
    {
      "cell_type": "code",
      "source": [
        "df_2 = pd.read_csv(\"../input/students-performance-in-exams/StudentsPerformance.csv\")\n",
        "df_2.head()"
      ],
      "metadata": {
        "trusted": true,
        "id": "Z13qMQjhVA9u"
      },
      "execution_count": null,
      "outputs": []
    },
    {
      "cell_type": "markdown",
      "source": [
        "#### Let's consider the \"writing score\" for inspection.  I'll plot a simple density plot which is also one of the best visualization for detecting outliers"
      ],
      "metadata": {
        "id": "DauE_PBjVA9u"
      }
    },
    {
      "cell_type": "code",
      "source": [
        "plt.figure(figsize = (10,5))\n",
        "sns.distplot(df_2['writing score'])"
      ],
      "metadata": {
        "trusted": true,
        "id": "QHAA273tVA9u"
      },
      "execution_count": null,
      "outputs": []
    },
    {
      "cell_type": "markdown",
      "source": [
        "#### By the looks of it, it is left tailed and it surely has outliers."
      ],
      "metadata": {
        "id": "JPxLBL9CVA9u"
      }
    },
    {
      "cell_type": "markdown",
      "source": [
        "#### Let's define a function to find out the lower and the upper whisker using SDM:"
      ],
      "metadata": {
        "id": "IyGW2t5-VA9v"
      }
    },
    {
      "cell_type": "code",
      "source": [
        "def out_std(df, column):\n",
        "    global lower,upper\n",
        "    # calculate the mean and standard deviation of the data frame\n",
        "    data_mean, data_std = df[column].mean(), df[column].std()\n",
        "    # calculate the cutoff value\n",
        "    cut_off = data_std * 3\n",
        "    # calculate the lower and upper bound value\n",
        "    lower, upper = data_mean - cut_off, data_mean + cut_off\n",
        "    print('The lower bound value is', lower)\n",
        "    print('The upper bound value is', upper)\n",
        "    # Calculate the number of records below and above lower and above bound value respectively\n",
        "    df1 = df[df[column] > upper]\n",
        "    df2 = df[df[column] < lower]\n",
        "    return print('Total number of outliers are', df1.shape[0]+ df2.shape[0])"
      ],
      "metadata": {
        "trusted": true,
        "id": "7445m152VA9v"
      },
      "execution_count": null,
      "outputs": []
    },
    {
      "cell_type": "code",
      "source": [
        "out_std(df_2,'writing score')"
      ],
      "metadata": {
        "scrolled": true,
        "trusted": true,
        "id": "UhcpR7l3VA9v"
      },
      "execution_count": null,
      "outputs": []
    },
    {
      "cell_type": "markdown",
      "source": [
        "### So as per the SD method, there are 4 ouliters"
      ],
      "metadata": {
        "id": "X2RhoSXnVA9v"
      }
    },
    {
      "cell_type": "markdown",
      "source": [
        "### Visual Representation:"
      ],
      "metadata": {
        "id": "Kfxm9YFOVA9v"
      }
    },
    {
      "cell_type": "code",
      "source": [
        "plt.figure(figsize = (10,5))\n",
        "sns.distplot(df_2['writing score'], kde=False)\n",
        "plt.axvspan(xmin = lower,xmax= df_2['writing score'].min(),alpha=0.2, color='red')\n",
        "plt.axvspan(xmin = upper,xmax= df_2['writing score'].max(),alpha=0.2, color='red')"
      ],
      "metadata": {
        "trusted": true,
        "id": "4ERaIuEXVA9v"
      },
      "execution_count": null,
      "outputs": []
    },
    {
      "cell_type": "markdown",
      "source": [
        "#### Here the red zone represents the outlier zone! The records present in that zone are considered as outliers"
      ],
      "metadata": {
        "id": "Iu5ShbZ8VA9v"
      }
    },
    {
      "cell_type": "markdown",
      "source": [
        "### Remedial Measure:\n",
        "#### Remove the records which are above the upper bound value and records below the lower bound value!"
      ],
      "metadata": {
        "id": "ZIi_TeKYVA9v"
      }
    },
    {
      "cell_type": "code",
      "source": [
        "#Data Frame without outliers\n",
        "df_new = df_2[(df_2['writing score'] < upper) | (df_2['writing score'] > lower)]"
      ],
      "metadata": {
        "trusted": true,
        "id": "pIGbpq8AVA9v"
      },
      "execution_count": null,
      "outputs": []
    },
    {
      "cell_type": "markdown",
      "source": [
        "# 3) Z-Score method:"
      ],
      "metadata": {
        "id": "MqYTW732VA9v"
      }
    },
    {
      "cell_type": "markdown",
      "source": [
        "#### The Z-score is the signed number of standard deviations by which the value of an observation or data point is above the mean value of what is being observed or measured.\n",
        "\n",
        "#### The intuition behind Z-score is to describe any data point by finding their relationship with the Standard Deviation and Mean of the group of data points. Z-score is finding the distribution of data where mean is 0 and standard deviation is 1 i.e. normal distribution.\n",
        "\n",
        "#### You must be wondering that, how does this help in identifying the outliers? Well, while calculating the Z-score we re-scale and center the data and look for data points which are too far from zero. These data points which are way too far from zero will be treated as the outliers. In most of the cases a threshold of 3 or -3 is used i.e if the Z-score value is greater than or less than 3 or -3 respectively, that data point will be identified as outliers.\n",
        "\n",
        "#### This technique assumes a Gaussian distribution of the data. The outliers are the data points that are in the tails of the distribution and therefore far from the mean. How far depends on a set threshold zthr for the normalized data points zi calculated with the formula:\n",
        "\n",
        "###                      Z_score= (Xi - mean) / standard deviation\n",
        "\n",
        "#### where Xi is a data point, 'mean' is the mean of all X and 'standard deviation' the standard deviation of all X.\n",
        "\n",
        "#### An outlier is then a normalized data point which has an absolute value greater than Zthr. That is:\n",
        "\n",
        "###                                     |Z_score| > Zthr\n",
        "\n",
        "#### Commonly used Zthr values are 2.5, 3.0 and 3.5. Here we will be using 3.0"
      ],
      "metadata": {
        "id": "AxyqVn-VVA9w"
      }
    },
    {
      "cell_type": "markdown",
      "source": [
        "#### For example, I'll take up the [TMedical Cost Personal Datasets](https://www.kaggle.com/mirichoi0218/insurance) for explaining Z-Score method."
      ],
      "metadata": {
        "id": "2J1ptjkyVA9w"
      }
    },
    {
      "cell_type": "code",
      "source": [
        "df_3 = pd.read_csv(\"../input/insurance/insurance.csv\")\n",
        "df_3.head()"
      ],
      "metadata": {
        "scrolled": true,
        "trusted": true,
        "id": "WmSCLN47VA9w"
      },
      "execution_count": null,
      "outputs": []
    },
    {
      "cell_type": "markdown",
      "source": [
        "#### Let's perform basic EDA to analyse the dataset"
      ],
      "metadata": {
        "id": "0ShTw2N9VA9w"
      }
    },
    {
      "cell_type": "code",
      "source": [
        "df_3.describe()"
      ],
      "metadata": {
        "trusted": true,
        "id": "M-0lP-UNVA9w"
      },
      "execution_count": null,
      "outputs": []
    },
    {
      "cell_type": "code",
      "source": [
        "df_3.isnull().sum()"
      ],
      "metadata": {
        "trusted": true,
        "id": "hv50eCL8VA9w"
      },
      "execution_count": null,
      "outputs": []
    },
    {
      "cell_type": "markdown",
      "source": [
        "#### Let's consider the \"charges\" for inspection.  I'll plot a simple density plot which is one of the best visualization for detecting outliers"
      ],
      "metadata": {
        "id": "rTQTdZ5CVA9w"
      }
    },
    {
      "cell_type": "code",
      "source": [
        "plt.figure(figsize = (10,5))\n",
        "sns.distplot(df_3['charges'])"
      ],
      "metadata": {
        "scrolled": true,
        "trusted": true,
        "id": "4QT_LwmJVA9w"
      },
      "execution_count": null,
      "outputs": []
    },
    {
      "cell_type": "markdown",
      "source": [
        "#### By the looks of it, it is right tailed and it surely has outliers."
      ],
      "metadata": {
        "id": "ZwJ4D_1aVA9w"
      }
    },
    {
      "cell_type": "markdown",
      "source": [
        "#### Let's define a function to find out the lower and the upper whisker using Z-Score method:"
      ],
      "metadata": {
        "id": "qFbMSUJKVA9x"
      }
    },
    {
      "cell_type": "code",
      "source": [
        "def out_zscore(data):\n",
        "    global outliers,zscore\n",
        "    outliers = []\n",
        "    zscore = []\n",
        "    threshold = 3\n",
        "    mean = np.mean(data)\n",
        "    std = np.std(data)\n",
        "    for i in data:\n",
        "        z_score= (i - mean)/std\n",
        "        zscore.append(z_score)\n",
        "        if np.abs(z_score) > threshold:\n",
        "            outliers.append(i)\n",
        "    return print(\"Total number of outliers are\",len(outliers))"
      ],
      "metadata": {
        "trusted": true,
        "id": "byrH_UysVA9x"
      },
      "execution_count": null,
      "outputs": []
    },
    {
      "cell_type": "code",
      "source": [
        "out_zscore(df_3.charges)"
      ],
      "metadata": {
        "scrolled": true,
        "trusted": true,
        "id": "n87fXb5WVA9x"
      },
      "execution_count": null,
      "outputs": []
    },
    {
      "cell_type": "markdown",
      "source": [
        "### According to z-score method, it has 7 outliers"
      ],
      "metadata": {
        "id": "9EqBarNZVA9x"
      }
    },
    {
      "cell_type": "markdown",
      "source": [
        "### Visual Representation:"
      ],
      "metadata": {
        "id": "0rVnS4QRVA9x"
      }
    },
    {
      "cell_type": "code",
      "source": [
        "plt.figure(figsize = (10,5))\n",
        "sns.distplot(zscore)\n",
        "plt.axvspan(xmin = 3 ,xmax= max(zscore),alpha=0.2, color='red')"
      ],
      "metadata": {
        "trusted": true,
        "id": "rXZQB64LVA9x"
      },
      "execution_count": null,
      "outputs": []
    },
    {
      "cell_type": "markdown",
      "source": [
        "#### Here the red zone represents the outlier zone! The records present in that zone are considered as outliers"
      ],
      "metadata": {
        "id": "8h84jxnCVA9x"
      }
    },
    {
      "cell_type": "markdown",
      "source": [
        "### Remedial Measure:\n",
        "#### Remove the records which are above the upper bound value and records below the lower bound value!"
      ],
      "metadata": {
        "id": "RCE6GiMbVA9x"
      }
    },
    {
      "cell_type": "code",
      "source": [
        "#Data Frame without outliers\n",
        "df_new = df_3[(df_3['charges'] < 3) | (df_3['charges'] > -3)]"
      ],
      "metadata": {
        "trusted": true,
        "id": "q9gcweC4VA9x"
      },
      "execution_count": null,
      "outputs": []
    },
    {
      "cell_type": "markdown",
      "source": [
        "### Let's move to some advanced methods of outlier detection"
      ],
      "metadata": {
        "id": "SKS6hZN3VA9x"
      }
    },
    {
      "cell_type": "markdown",
      "source": [
        "# 4) Isolation Forest"
      ],
      "metadata": {
        "id": "BuJ7WBm_VA9y"
      }
    },
    {
      "cell_type": "markdown",
      "source": [
        "#### Isolation forest is an algorithm to detect outliers. It partitions the data using a set of trees and provides an anomaly score looking at how isolated the point is in the structure found. The anomaly score is then used to tell apart outliers from normal observations.\n",
        "\n",
        "#### An important concept in this method is the isolation number. The isolation number is the number of splits needed to isolate a data point. This number of splits is ascertained by following these steps:\n",
        "\n",
        "#### - A point “a” to isolate is selected randomly.\n",
        "#### - A random data point “b” is selected that is between the minimum and maximum value and different from “a”.\n",
        "#### - If the value of “b” is lower than the value of “a”, the value of “b” becomes the new lower limit.\n",
        "#### - If the value of “b” is greater than the value of “a”, the value of “b” becomes the new upper limit.\n",
        "#### - This procedure is repeated as long as there are data points other than “a” between the upper and the lower limit.\n",
        "\n",
        "#### It requires fewer splits to isolate an outlier than it does to isolate a non-outlier, i.e. an outlier has a lower isolation number in comparison to a non-outlier point. A data point is therefore defined as an outlier if its isolation number is lower than the threshold. The threshold is defined based on the estimated percentage of outliers in the data, which is the starting point of this outlier detection algorithm."
      ],
      "metadata": {
        "id": "kdvsY_TtVA9y"
      }
    },
    {
      "cell_type": "markdown",
      "source": [
        "## B) Mulitivariate Outliers:"
      ],
      "metadata": {
        "id": "uD0VaHpnVA9y"
      }
    },
    {
      "cell_type": "markdown",
      "source": [
        "# 1) DBSCAN (Density-Based Spatial Clustering of Applications with Noise):"
      ],
      "metadata": {
        "id": "GvlXwM68VA9y"
      }
    },
    {
      "cell_type": "markdown",
      "source": [
        "#### This is a clustering algorithm (an alternative to K-Means) that clusters points together and identifies any points not belonging to a cluster as outliers. It’s like K-means, except the number of clusters does not need to be specified in advance.\n",
        "\n",
        "#### I will show you an example of using DBScan but before we start, let’s cover some important concepts. DBScan has three important concepts:\n",
        "\n",
        "#### - Core Points: In order to understand the concept of the core points, we need to visit some of the hyperparameters used to define DBScan job. First hyperparameter (HP) is min_samples. This is simply the minimum number of core points needed in order to form a cluster. second important HP is 'eps'. 'eps' is the maximum distance between two samples for them to be considered as in the same cluster.\n",
        "#### - Border Points are in the same cluster as core points but much further away from the centre of the cluster.\n",
        "#### - Everything else is called Noise Points, those are data points that do not belong to any cluster. They can be anomalous or non-anomalous and they need further investigation. Now, let’s see some code."
      ],
      "metadata": {
        "id": "BWWq-hIUVA9y"
      }
    },
    {
      "cell_type": "markdown",
      "source": [
        "#### I'll consider the 'age' and 'bmi' columns of the insurance dataset for evaluation."
      ],
      "metadata": {
        "id": "hvbLV9uoVA9z"
      }
    },
    {
      "cell_type": "code",
      "source": [
        "X = df_3[['age','bmi']].values\n",
        "\n",
        "db = DBSCAN(eps=3.0, min_samples=10).fit(X)\n",
        "labels = db.labels_"
      ],
      "metadata": {
        "trusted": true,
        "id": "9ZP_QwznVA9z"
      },
      "execution_count": null,
      "outputs": []
    },
    {
      "cell_type": "code",
      "source": [
        "pd.Series(labels).value_counts()"
      ],
      "metadata": {
        "scrolled": true,
        "trusted": true,
        "id": "beVyDBPLVA9z"
      },
      "execution_count": null,
      "outputs": []
    },
    {
      "cell_type": "markdown",
      "source": [
        "### Here the -1's represent the outliers!\n",
        "\n",
        "#### Let's plot to differentiate the outliers. I'll set the blue colour to normal records and red colour to outliers."
      ],
      "metadata": {
        "id": "xQtvjxfvVA9z"
      }
    },
    {
      "cell_type": "code",
      "source": [
        "plt.figure(figsize=(12,12))\n",
        "\n",
        "unique_labels = set(labels)\n",
        "colors = ['blue', 'red']\n",
        "\n",
        "for color,label in zip(colors, unique_labels):\n",
        "    sample_mask = [True if l == label else False for l in labels]\n",
        "    plt.plot(X[:,0][sample_mask], X[:, 1][sample_mask], 'o', color=color);\n",
        "plt.xlabel('Age');\n",
        "plt.ylabel('BMI');"
      ],
      "metadata": {
        "trusted": true,
        "id": "aj-aKdJIVA9z"
      },
      "execution_count": null,
      "outputs": []
    },
    {
      "cell_type": "markdown",
      "source": [
        "#### The downside with this method is that the higher the dimension, the less accurate it becomes. You also need to make a few assumptions like estimating the right value for eps which can be challenging."
      ],
      "metadata": {
        "id": "-t4p5211VA9z"
      }
    },
    {
      "cell_type": "markdown",
      "source": [
        "# 2) Local Outlier Factor Method(LOF):"
      ],
      "metadata": {
        "id": "IzK_nX0QVA9z"
      }
    },
    {
      "cell_type": "markdown",
      "source": [
        "#### LOF uses density-based outlier detection to identify local outliers, points that are outliers with respect to their local neighborhood, rather than with respect to the global data distribution. The higher the LOF value for an observation, the more anomalous the observation.\n",
        "\n",
        "#### This is useful because not all methods will not identify a point that’s an outlier relative to a nearby cluster of points (a local outlier) if that whole region is not an outlying region in the global space of data points.\n",
        "\n",
        "#### A point is labeled as an outlier if the density around that point is significantly different from the density around its neighbors.\n",
        "\n",
        "#### In the below feature space, LOF is able to identify P1 and P2 as outliers, which are local outliers to Cluster 2 (in addition to P3)."
      ],
      "metadata": {
        "id": "asqQAeO1VA9z"
      }
    },
    {
      "cell_type": "markdown",
      "source": [
        "#### I'll consider the 'age' and 'chol' of the heart diseases dataset for the multivariate analysis!"
      ],
      "metadata": {
        "id": "eXAXWwi7VA9z"
      }
    },
    {
      "cell_type": "code",
      "source": [
        "clf = LocalOutlierFactor(n_neighbors=50, contamination='auto')\n",
        "X = df_1[['age','chol']].values\n",
        "y_pred = clf.fit_predict(X)"
      ],
      "metadata": {
        "trusted": true,
        "id": "qlsFvIYeVA9z"
      },
      "execution_count": null,
      "outputs": []
    },
    {
      "cell_type": "markdown",
      "source": [
        "#### Now let's plot and visualize the outliers. I've set blue for the normal records and red for outliers"
      ],
      "metadata": {
        "id": "nQxof5O4VA9z"
      }
    },
    {
      "cell_type": "code",
      "source": [
        "plt.figure(figsize=(12,12))\n",
        "# plot the level sets of the decision function\n",
        "\n",
        "in_mask = [True if l == 1 else False for l in y_pred]\n",
        "out_mask = [True if l == -1 else False for l in y_pred]\n",
        "\n",
        "plt.title(\"Local Outlier Factor (LOF)\")\n",
        "# inliers\n",
        "a = plt.scatter(X[in_mask, 0], X[in_mask, 1], c = 'blue',\n",
        "                edgecolor = 'k', s = 30)\n",
        "# outliers\n",
        "b = plt.scatter(X[out_mask, 0], X[out_mask, 1], c = 'red',\n",
        "                edgecolor = 'k', s = 30)\n",
        "plt.axis('tight')\n",
        "plt.xlabel('Age');\n",
        "plt.ylabel('Cholestrol');\n",
        "plt.show()"
      ],
      "metadata": {
        "trusted": true,
        "id": "QM3FYfoQVA9z"
      },
      "execution_count": null,
      "outputs": []
    },
    {
      "cell_type": "markdown",
      "source": [
        "## Conclusion:"
      ],
      "metadata": {
        "id": "GaKqwhq1VA90"
      }
    },
    {
      "cell_type": "markdown",
      "source": [
        "#### While outlier removal forms an essential part of a dataset normalization, it’s important to ensure zero errors in the assumptions that influence outlier removal. Data with even significant number of outliers may not always be bad data and a rigorous investigation of the dataset in itself is often warranted, but overlooked, by data scientists in their processes.\n",
        "\n",
        "#### There are some more advanced outlier detection processes like:\n",
        "\n",
        "#### 1) Elliptic Envelope [https://scikit-learn.org/stable/modules/generated/sklearn.covariance.EllipticEnvelope.html]\n",
        "#### 2) One-Class Support Vector Machines [http://rvlasveld.github.io/blog/2013/07/12/introduction-to-one-class-support-vector-machines/]\n",
        "#### 3) Robust Random Cut Forest [https://github.com/awslabs/amazon-sagemaker-examples/tree/master/introduction_to_amazon_algorithms/random_cut_forest]\n",
        "\n",
        "#### We live in a world where the data is getting bigger by the second. The value of the data can diminish over time if not used properly. Finding anomalies in a dataset is crucial to identifying problems in the business or building a proactive solution to potentially discover the problem before it happens or even in the exploratory data analysis (EDA) phase to prepare a dataset for ML.\n",
        "\n",
        "\n"
      ],
      "metadata": {
        "id": "rsntOgJIVA90"
      }
    }
  ]
}